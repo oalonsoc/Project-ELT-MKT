{
 "cells": [
  {
   "cell_type": "markdown",
   "metadata": {},
   "source": [
    "### Discovery Fuentes Kaggle"
   ]
  },
  {
   "cell_type": "code",
   "execution_count": 1,
   "metadata": {},
   "outputs": [],
   "source": [
    "# importando la libreria de pandas\n",
    "import pandas as pd"
   ]
  },
  {
   "cell_type": "code",
   "execution_count": 2,
   "metadata": {},
   "outputs": [],
   "source": [
    "# seleccionando archivo\n",
    "df = pd.read_csv(\"data/marketing_campaign_dataset.csv\")"
   ]
  },
  {
   "cell_type": "markdown",
   "metadata": {},
   "source": [
    "- Channel_Used : Plataforma de marketing\n",
    "- Sin Campaign_Id\n"
   ]
  },
  {
   "cell_type": "code",
   "execution_count": 3,
   "metadata": {},
   "outputs": [
    {
     "data": {
      "text/html": [
       "<div>\n",
       "<style scoped>\n",
       "    .dataframe tbody tr th:only-of-type {\n",
       "        vertical-align: middle;\n",
       "    }\n",
       "\n",
       "    .dataframe tbody tr th {\n",
       "        vertical-align: top;\n",
       "    }\n",
       "\n",
       "    .dataframe thead th {\n",
       "        text-align: right;\n",
       "    }\n",
       "</style>\n",
       "<table border=\"1\" class=\"dataframe\">\n",
       "  <thead>\n",
       "    <tr style=\"text-align: right;\">\n",
       "      <th></th>\n",
       "      <th>Company</th>\n",
       "      <th>Campaign_Type</th>\n",
       "      <th>Language</th>\n",
       "      <th>Customer_Segment</th>\n",
       "    </tr>\n",
       "  </thead>\n",
       "  <tbody>\n",
       "    <tr>\n",
       "      <th>452</th>\n",
       "      <td>Alpha Innovations</td>\n",
       "      <td>Influencer</td>\n",
       "      <td>French</td>\n",
       "      <td>Tech Enthusiasts</td>\n",
       "    </tr>\n",
       "    <tr>\n",
       "      <th>674</th>\n",
       "      <td>Alpha Innovations</td>\n",
       "      <td>Influencer</td>\n",
       "      <td>English</td>\n",
       "      <td>Health &amp; Wellness</td>\n",
       "    </tr>\n",
       "    <tr>\n",
       "      <th>668</th>\n",
       "      <td>Alpha Innovations</td>\n",
       "      <td>Influencer</td>\n",
       "      <td>Spanish</td>\n",
       "      <td>Foodies</td>\n",
       "    </tr>\n",
       "    <tr>\n",
       "      <th>136</th>\n",
       "      <td>Alpha Innovations</td>\n",
       "      <td>Social Media</td>\n",
       "      <td>Spanish</td>\n",
       "      <td>Fashionistas</td>\n",
       "    </tr>\n",
       "    <tr>\n",
       "      <th>634</th>\n",
       "      <td>Alpha Innovations</td>\n",
       "      <td>Search</td>\n",
       "      <td>Mandarin</td>\n",
       "      <td>Fashionistas</td>\n",
       "    </tr>\n",
       "    <tr>\n",
       "      <th>...</th>\n",
       "      <td>...</td>\n",
       "      <td>...</td>\n",
       "      <td>...</td>\n",
       "      <td>...</td>\n",
       "    </tr>\n",
       "    <tr>\n",
       "      <th>887</th>\n",
       "      <td>TechCorp</td>\n",
       "      <td>Email</td>\n",
       "      <td>Mandarin</td>\n",
       "      <td>Outdoor Adventurers</td>\n",
       "    </tr>\n",
       "    <tr>\n",
       "      <th>670</th>\n",
       "      <td>TechCorp</td>\n",
       "      <td>Influencer</td>\n",
       "      <td>French</td>\n",
       "      <td>Outdoor Adventurers</td>\n",
       "    </tr>\n",
       "    <tr>\n",
       "      <th>885</th>\n",
       "      <td>TechCorp</td>\n",
       "      <td>Social Media</td>\n",
       "      <td>English</td>\n",
       "      <td>Fashionistas</td>\n",
       "    </tr>\n",
       "    <tr>\n",
       "      <th>786</th>\n",
       "      <td>TechCorp</td>\n",
       "      <td>Display</td>\n",
       "      <td>Mandarin</td>\n",
       "      <td>Outdoor Adventurers</td>\n",
       "    </tr>\n",
       "    <tr>\n",
       "      <th>49</th>\n",
       "      <td>TechCorp</td>\n",
       "      <td>Social Media</td>\n",
       "      <td>German</td>\n",
       "      <td>Tech Enthusiasts</td>\n",
       "    </tr>\n",
       "  </tbody>\n",
       "</table>\n",
       "<p>625 rows × 4 columns</p>\n",
       "</div>"
      ],
      "text/plain": [
       "               Company Campaign_Type  Language     Customer_Segment\n",
       "452  Alpha Innovations    Influencer    French     Tech Enthusiasts\n",
       "674  Alpha Innovations    Influencer   English    Health & Wellness\n",
       "668  Alpha Innovations    Influencer   Spanish              Foodies\n",
       "136  Alpha Innovations  Social Media   Spanish         Fashionistas\n",
       "634  Alpha Innovations        Search  Mandarin         Fashionistas\n",
       "..                 ...           ...       ...                  ...\n",
       "887           TechCorp         Email  Mandarin  Outdoor Adventurers\n",
       "670           TechCorp    Influencer    French  Outdoor Adventurers\n",
       "885           TechCorp  Social Media   English         Fashionistas\n",
       "786           TechCorp       Display  Mandarin  Outdoor Adventurers\n",
       "49            TechCorp  Social Media    German     Tech Enthusiasts\n",
       "\n",
       "[625 rows x 4 columns]"
      ]
     },
     "execution_count": 3,
     "metadata": {},
     "output_type": "execute_result"
    }
   ],
   "source": [
    "# seleccionamos las columnas qiue necesitaremos y quitamos duplicados para tener valores unicos\n",
    "\n",
    "df_campaign = df[['Company','Campaign_Type','Language',\n",
    "    'Customer_Segment']].drop_duplicates().sort_values(by='Company')\n",
    "df_campaign"
   ]
  },
  {
   "cell_type": "markdown",
   "metadata": {},
   "source": [
    "['Google Ads', 'YouTube', 'Instagram', 'Website', 'Facebook',\n",
    "       'Email']"
   ]
  },
  {
   "cell_type": "code",
   "execution_count": 4,
   "metadata": {},
   "outputs": [],
   "source": [
    "# Creando un archivo csv del filtro de un dataframe de youtube (canal usuado)\n",
    "df.query('Channel_Used == \"YouTube\"').sample(50).to_csv('youtube_sample.csv', index=False)"
   ]
  },
  {
   "cell_type": "code",
   "execution_count": 5,
   "metadata": {},
   "outputs": [
    {
     "data": {
      "text/plain": [
       "array(['Email', 'Influencer', 'Display', 'Search', 'Social Media'],\n",
       "      dtype=object)"
      ]
     },
     "execution_count": 5,
     "metadata": {},
     "output_type": "execute_result"
    }
   ],
   "source": [
    "df.Campaign_Type.unique()"
   ]
  },
  {
   "cell_type": "code",
   "execution_count": 8,
   "metadata": {},
   "outputs": [
    {
     "data": {
      "text/plain": [
       "array(['Google Ads', 'YouTube', 'Instagram', 'Website', 'Facebook',\n",
       "       'Email'], dtype=object)"
      ]
     },
     "execution_count": 8,
     "metadata": {},
     "output_type": "execute_result"
    }
   ],
   "source": [
    "# valores unicos de canales\n",
    "df.Channel_Used.unique()"
   ]
  },
  {
   "cell_type": "code",
   "execution_count": null,
   "metadata": {},
   "outputs": [],
   "source": []
  },
  {
   "cell_type": "code",
   "execution_count": null,
   "metadata": {},
   "outputs": [],
   "source": []
  },
  {
   "cell_type": "code",
   "execution_count": null,
   "metadata": {},
   "outputs": [],
   "source": []
  }
 ],
 "metadata": {
  "kernelspec": {
   "display_name": "Python 3",
   "language": "python",
   "name": "python3"
  },
  "language_info": {
   "codemirror_mode": {
    "name": "ipython",
    "version": 3
   },
   "file_extension": ".py",
   "mimetype": "text/x-python",
   "name": "python",
   "nbconvert_exporter": "python",
   "pygments_lexer": "ipython3",
   "version": "3.12.5"
  }
 },
 "nbformat": 4,
 "nbformat_minor": 2
}
